{
 "cells": [
  {
   "cell_type": "markdown",
   "id": "15d8b6b9-ce0d-4606-81b1-738a58744ebf",
   "metadata": {},
   "source": [
    "# assignment01"
   ]
  },
  {
   "cell_type": "code",
   "execution_count": 23,
   "id": "ad5c0397-b049-472f-9a89-ced19badc717",
   "metadata": {},
   "outputs": [
    {
     "name": "stdout",
     "output_type": "stream",
     "text": [
      "NLP stands for Natural Language Processing\n"
     ]
    }
   ],
   "source": [
    "abbreviation = \"NLP\"\n",
    "full_form = \"Natural Language Processing\"\n",
    "message = f\"{abbreviation} stands for {full_form}\"\n",
    "print(message)"
   ]
  },
  {
   "cell_type": "code",
   "execution_count": 24,
   "id": "dc38872d-e2da-4633-9854-78610d9d8493",
   "metadata": {},
   "outputs": [
    {
     "name": "stdout",
     "output_type": "stream",
     "text": [
      "Overwriting contacts.txt\n"
     ]
    }
   ],
   "source": [
    "%%writefile contacts.txt\n",
    "first_name\n",
    "last_name"
   ]
  },
  {
   "cell_type": "code",
   "execution_count": 25,
   "id": "970cc77a-a608-41eb-89ed-f56a490749ee",
   "metadata": {},
   "outputs": [
    {
     "data": {
      "text/plain": [
       "'first_name\\nlast_name\\n'"
      ]
     },
     "execution_count": 25,
     "metadata": {},
     "output_type": "execute_result"
    }
   ],
   "source": [
    "#1\n",
    "string = open('contacts.txt')\n",
    "string.read()"
   ]
  },
  {
   "cell_type": "code",
   "execution_count": 26,
   "id": "5ef83e0d-eeb3-40a9-8a56-7f12fb35719a",
   "metadata": {},
   "outputs": [
    {
     "data": {
      "text/plain": [
       "'first_name\\nlast_name\\n'"
      ]
     },
     "execution_count": 26,
     "metadata": {},
     "output_type": "execute_result"
    }
   ],
   "source": [
    "#2\n",
    "with open ('contacts.txt','r') as a:\n",
    "    fields = a.read()\n",
    "fields"
   ]
  },
  {
   "cell_type": "code",
   "execution_count": 27,
   "id": "97072065-6935-41ac-9683-9b11c52a7826",
   "metadata": {},
   "outputs": [],
   "source": [
    "import PyPDF2"
   ]
  },
  {
   "cell_type": "code",
   "execution_count": 28,
   "id": "2c917c34-935d-4c31-a240-76c4b13c41d6",
   "metadata": {},
   "outputs": [
    {
     "data": {
      "text/plain": [
       "<_io.BufferedReader name='Business_Proposal.pdf'>"
      ]
     },
     "execution_count": 28,
     "metadata": {},
     "output_type": "execute_result"
    }
   ],
   "source": [
    "pdf_path = r'Business_Proposal.pdf'\n",
    "f = open(pdf_path, 'rb')\n",
    "f"
   ]
  },
  {
   "cell_type": "code",
   "execution_count": 29,
   "id": "4bb920ab-cfb1-4cfa-ae89-eb9eeb6c06ce",
   "metadata": {},
   "outputs": [
    {
     "data": {
      "text/plain": [
       "<PyPDF2._reader.PdfReader at 0x1e7759a3050>"
      ]
     },
     "execution_count": 29,
     "metadata": {},
     "output_type": "execute_result"
    }
   ],
   "source": [
    "reader = PyPDF2.PdfReader(f)\n",
    "reader"
   ]
  },
  {
   "cell_type": "code",
   "execution_count": 30,
   "id": "85e0082b-f3ce-4cea-9577-e2563f822b8c",
   "metadata": {},
   "outputs": [
    {
     "data": {
      "text/plain": [
       "2"
      ]
     },
     "execution_count": 30,
     "metadata": {},
     "output_type": "execute_result"
    }
   ],
   "source": [
    "len(reader.pages)"
   ]
  },
  {
   "cell_type": "code",
   "execution_count": 31,
   "id": "0ff92d72-33ca-4f61-9599-2974749af7f3",
   "metadata": {},
   "outputs": [
    {
     "data": {
      "text/plain": [
       "{'/Type': '/Page',\n",
       " '/Parent': {'/Type': '/Pages',\n",
       "  '/Count': 2,\n",
       "  '/Kids': [IndirectObject(3, 0, 2093622112336),\n",
       "   IndirectObject(13, 0, 2093622112336)]},\n",
       " '/Resources': {'/Font': {'/F3': {'/Type': '/Font',\n",
       "    '/Subtype': '/TrueType',\n",
       "    '/Name': '/F3',\n",
       "    '/BaseFont': '/BCDFEE+Calibri',\n",
       "    '/Encoding': '/WinAnsiEncoding',\n",
       "    '/FontDescriptor': {'/Type': '/FontDescriptor',\n",
       "     '/FontName': '/BCDFEE+Calibri',\n",
       "     '/Flags': 32,\n",
       "     '/ItalicAngle': 0,\n",
       "     '/Ascent': 750,\n",
       "     '/Descent': -250,\n",
       "     '/CapHeight': 750,\n",
       "     '/AvgWidth': 521,\n",
       "     '/MaxWidth': 1743,\n",
       "     '/FontWeight': 400,\n",
       "     '/XHeight': 250,\n",
       "     '/StemV': 52,\n",
       "     '/FontBBox': [-503, -250, 1240, 750],\n",
       "     '/FontFile2': {'/Filter': '/FlateDecode', '/Length1': 144852}},\n",
       "    '/FirstChar': 32,\n",
       "    '/LastChar': 121,\n",
       "    '/Widths': [226,\n",
       "     0,\n",
       "     0,\n",
       "     0,\n",
       "     0,\n",
       "     0,\n",
       "     0,\n",
       "     0,\n",
       "     0,\n",
       "     0,\n",
       "     0,\n",
       "     0,\n",
       "     250,\n",
       "     0,\n",
       "     252,\n",
       "     0,\n",
       "     0,\n",
       "     507,\n",
       "     507,\n",
       "     507,\n",
       "     507,\n",
       "     507,\n",
       "     507,\n",
       "     507,\n",
       "     507,\n",
       "     507,\n",
       "     268,\n",
       "     0,\n",
       "     0,\n",
       "     0,\n",
       "     0,\n",
       "     0,\n",
       "     894,\n",
       "     579,\n",
       "     544,\n",
       "     533,\n",
       "     615,\n",
       "     488,\n",
       "     459,\n",
       "     0,\n",
       "     623,\n",
       "     0,\n",
       "     0,\n",
       "     0,\n",
       "     0,\n",
       "     0,\n",
       "     0,\n",
       "     662,\n",
       "     517,\n",
       "     0,\n",
       "     543,\n",
       "     459,\n",
       "     487,\n",
       "     642,\n",
       "     567,\n",
       "     0,\n",
       "     0,\n",
       "     0,\n",
       "     0,\n",
       "     0,\n",
       "     0,\n",
       "     0,\n",
       "     0,\n",
       "     0,\n",
       "     0,\n",
       "     479,\n",
       "     525,\n",
       "     423,\n",
       "     525,\n",
       "     498,\n",
       "     305,\n",
       "     471,\n",
       "     525,\n",
       "     230,\n",
       "     0,\n",
       "     455,\n",
       "     230,\n",
       "     799,\n",
       "     525,\n",
       "     527,\n",
       "     525,\n",
       "     0,\n",
       "     349,\n",
       "     391,\n",
       "     335,\n",
       "     525,\n",
       "     0,\n",
       "     0,\n",
       "     433,\n",
       "     453]}},\n",
       "  '/ExtGState': {'/GS7': {'/Type': '/ExtGState', '/BM': '/Normal', '/ca': 1},\n",
       "   '/GS8': {'/Type': '/ExtGState', '/BM': '/Normal', '/CA': 1}},\n",
       "  '/ProcSet': ['/PDF', '/Text', '/ImageB', '/ImageC', '/ImageI']},\n",
       " '/MediaBox': [0, 0, 612, 792],\n",
       " '/Contents': {'/Filter': '/FlateDecode'},\n",
       " '/Group': {'/Type': '/Group', '/S': '/Transparency', '/CS': '/DeviceRGB'},\n",
       " '/Tabs': '/S',\n",
       " '/StructParents': 1}"
      ]
     },
     "execution_count": 31,
     "metadata": {},
     "output_type": "execute_result"
    }
   ],
   "source": [
    "page_two = reader.pages[1]\n",
    "page_two"
   ]
  },
  {
   "cell_type": "code",
   "execution_count": 32,
   "id": "144ccbff-7bda-461d-bfda-b129a83614b9",
   "metadata": {},
   "outputs": [
    {
     "data": {
      "text/plain": [
       "'AUTHORS:  \\nAmy Baker, Finance Chair, x345, abaker@ourcompany.com  \\nChris Donaldson, Accounting Dir., x621, cdonaldson@ourcompany.com  \\nErin Freeman, Sr. VP, x879, efreeman@ourcompany.com  '"
      ]
     },
     "execution_count": 32,
     "metadata": {},
     "output_type": "execute_result"
    }
   ],
   "source": [
    "# extracting page 2\n",
    "page_two_text = page_two.extract_text()\n",
    "page_two_text"
   ]
  },
  {
   "cell_type": "code",
   "execution_count": 33,
   "id": "ec36148e-8bd1-47e5-8eb5-9e3809e71538",
   "metadata": {},
   "outputs": [],
   "source": [
    "with open('contacts.txt', 'a') as a:\n",
    "    add_p2 = a.write(page_two_text)\n",
    "    add_p2"
   ]
  },
  {
   "cell_type": "code",
   "execution_count": 34,
   "id": "7cfdd1c7-056a-453f-8ee3-e87a27a00b4f",
   "metadata": {},
   "outputs": [
    {
     "data": {
      "text/plain": [
       "'first_name\\nlast_name\\nAUTHORS:  \\nAmy Baker, Finance Chair, x345, abaker@ourcompany.com  \\nChris Donaldson, Accounting Dir., x621, cdonaldson@ourcompany.com  \\nErin Freeman, Sr. VP, x879, efreeman@ourcompany.com  '"
      ]
     },
     "execution_count": 34,
     "metadata": {},
     "output_type": "execute_result"
    }
   ],
   "source": [
    "with open('contacts.txt', 'r') as a:\n",
    "    b = a.read()\n",
    "b"
   ]
  },
  {
   "cell_type": "code",
   "execution_count": 35,
   "id": "4061c393-ed7c-4fba-9dc7-8486bba50e81",
   "metadata": {},
   "outputs": [
    {
     "name": "stdout",
     "output_type": "stream",
     "text": [
      "['abaker@ourcompany.com', 'cdonaldson@ourcompany.com', 'efreeman@ourcompany.com']\n"
     ]
    }
   ],
   "source": [
    "import re\n",
    "\n",
    "pattern = r'\\b[A-Za-z0-9._%+-]+@[A-Za-z0-9.-]+\\.[A-Z|a-z]{2,}\\b'\n",
    "# visualize        abaker           +@ ourcompany  + . com\n",
    "result = re.findall(pattern, page_two_text)\n",
    "\n",
    "print(result)"
   ]
  }
 ],
 "metadata": {
  "kernelspec": {
   "display_name": "Python 3 (ipykernel)",
   "language": "python",
   "name": "python3"
  },
  "language_info": {
   "codemirror_mode": {
    "name": "ipython",
    "version": 3
   },
   "file_extension": ".py",
   "mimetype": "text/x-python",
   "name": "python",
   "nbconvert_exporter": "python",
   "pygments_lexer": "ipython3",
   "version": "3.11.7"
  }
 },
 "nbformat": 4,
 "nbformat_minor": 5
}
